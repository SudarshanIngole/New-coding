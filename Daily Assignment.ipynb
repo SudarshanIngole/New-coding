{
 "cells": [
  {
   "cell_type": "code",
   "execution_count": 8,
   "id": "a3294703",
   "metadata": {},
   "outputs": [
    {
     "name": "stdout",
     "output_type": "stream",
     "text": [
      "Enter value5\n",
      "Enter Value9\n",
      "14\n"
     ]
    }
   ],
   "source": [
    "def add_numbers(x, y):\n",
    "    \n",
    "    result = x + y\n",
    "    return result\n",
    "\n",
    "\n",
    "num1 = int(input(\"Enter value\"))\n",
    "num2 = int(input(\"Enter Value\"))\n",
    "sum_result = add_numbers(num1, num2)\n",
    "print(sum_result)\n"
   ]
  },
  {
   "cell_type": "code",
   "execution_count": 11,
   "id": "3420cdba",
   "metadata": {},
   "outputs": [],
   "source": [
    "# Arithmetic Operation\n",
    "\n",
    "def num_1(n3):\n",
    "    a=1\n",
    "    while(a<=10):\n",
    "        print(a)\n",
    "        a+=1\n",
    "    n3 += 1 \n",
    "    return n3\n",
    "    "
   ]
  },
  {
   "cell_type": "code",
   "execution_count": 12,
   "id": "a04a7204",
   "metadata": {},
   "outputs": [
    {
     "name": "stdout",
     "output_type": "stream",
     "text": [
      "1\n",
      "2\n",
      "3\n",
      "4\n",
      "5\n",
      "6\n",
      "7\n",
      "8\n",
      "9\n",
      "10\n",
      "101\n"
     ]
    }
   ],
   "source": [
    "Res = num_1(100)\n",
    "print(Res)"
   ]
  },
  {
   "cell_type": "code",
   "execution_count": 14,
   "id": "de8e6670",
   "metadata": {},
   "outputs": [
    {
     "name": "stdout",
     "output_type": "stream",
     "text": [
      "Hi, World!\n"
     ]
    }
   ],
   "source": [
    "my_string = \"Hello, World!\"\n",
    "new_string = my_string.replace(\"Hello\", \"Hi\")\n",
    "print(new_string)\n"
   ]
  },
  {
   "cell_type": "code",
   "execution_count": 19,
   "id": "68cf77df",
   "metadata": {},
   "outputs": [
    {
     "name": "stdout",
     "output_type": "stream",
     "text": [
      "Search successful.\n"
     ]
    }
   ],
   "source": [
    "import re\n",
    "\n",
    "pattern = '^a...s$'\n",
    "test_string = 'abyss'\n",
    "result = re.match(pattern, test_string)\n",
    "\n",
    "if result:\n",
    "  print(\"Search successful.\")\n",
    "else:\n",
    "  print(\"Search unsuccessful.\")\t\n"
   ]
  },
  {
   "cell_type": "code",
   "execution_count": 20,
   "id": "bff1630d",
   "metadata": {},
   "outputs": [
    {
     "name": "stdout",
     "output_type": "stream",
     "text": [
      "['12', '89', '34']\n"
     ]
    }
   ],
   "source": [
    "import re\n",
    "\n",
    "string = 'hello 12 hi 89. Howdy 34'\n",
    "pattern = '\\d+'\n",
    "\n",
    "result = re.findall(pattern, string) \n",
    "print(result)"
   ]
  },
  {
   "cell_type": "code",
   "execution_count": null,
   "id": "090739c4",
   "metadata": {},
   "outputs": [],
   "source": []
  }
 ],
 "metadata": {
  "kernelspec": {
   "display_name": "Python 3 (ipykernel)",
   "language": "python",
   "name": "python3"
  },
  "language_info": {
   "codemirror_mode": {
    "name": "ipython",
    "version": 3
   },
   "file_extension": ".py",
   "mimetype": "text/x-python",
   "name": "python",
   "nbconvert_exporter": "python",
   "pygments_lexer": "ipython3",
   "version": "3.11.5"
  }
 },
 "nbformat": 4,
 "nbformat_minor": 5
}
