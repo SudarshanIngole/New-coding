{
 "cells": [
  {
   "cell_type": "code",
   "execution_count": 2,
   "id": "acfc7c33",
   "metadata": {},
   "outputs": [
    {
     "name": "stdout",
     "output_type": "stream",
     "text": [
      "Enter the string:ishika\n"
     ]
    },
    {
     "data": {
      "text/plain": [
       "False"
      ]
     },
     "execution_count": 2,
     "metadata": {},
     "output_type": "execute_result"
    }
   ],
   "source": [
    "#Accept name from user and check the first and last characters are same or not \n",
    "str1 = str(input('Enter the string:'))\n",
    "str1[1] == str1[-1]"
   ]
  },
  {
   "cell_type": "code",
   "execution_count": 4,
   "id": "9a137e32",
   "metadata": {},
   "outputs": [
    {
     "name": "stdout",
     "output_type": "stream",
     "text": [
      "x= 20\n",
      "y= 10\n"
     ]
    }
   ],
   "source": [
    "#Swapping logic\n",
    "x = 10\n",
    "y = 20\n",
    "x, y == y,x\n",
    "print(\"x=\",y)\n",
    "print('y=',x)"
   ]
  },
  {
   "cell_type": "code",
   "execution_count": 7,
   "id": "528328a9",
   "metadata": {},
   "outputs": [
    {
     "name": "stdout",
     "output_type": "stream",
     "text": [
      "Enter the string: ISHIKA\n"
     ]
    },
    {
     "data": {
      "text/plain": [
       "True"
      ]
     },
     "execution_count": 7,
     "metadata": {},
     "output_type": "execute_result"
    }
   ],
   "source": [
    "#check if s is present or not \n",
    "name = str(input('Enter the string: '))\n",
    "\"S\"  in name "
   ]
  },
  {
   "cell_type": "code",
   "execution_count": 12,
   "id": "2fef9015",
   "metadata": {},
   "outputs": [
    {
     "name": "stdout",
     "output_type": "stream",
     "text": [
      "('a', 'a', 'i', 'e')\n",
      "('d', 't', 'm', 't', 's')\n"
     ]
    }
   ],
   "source": [
    "name = 'datamites'\n",
    "name1 = name[1] , name [3], name[5], name[7]\n",
    "print(name1)\n",
    "name2 = name[0], name[2], name[4], name[6], name[8]\n",
    "print(name2)\n",
    "\n"
   ]
  },
  {
   "cell_type": "code",
   "execution_count": 1,
   "id": "9308562f",
   "metadata": {},
   "outputs": [
    {
     "name": "stdout",
     "output_type": "stream",
     "text": [
      "Enter a string:Datamites\n"
     ]
    },
    {
     "data": {
      "text/plain": [
       "'Datami'"
      ]
     },
     "execution_count": 1,
     "metadata": {},
     "output_type": "execute_result"
    }
   ],
   "source": [
    "#Accept name from user and print first five character from given character.\n",
    "str = str(input('Enter a string:'))\n",
    "str[:6]"
   ]
  },
  {
   "cell_type": "code",
   "execution_count": 1,
   "id": "74195e2b",
   "metadata": {},
   "outputs": [
    {
     "name": "stdout",
     "output_type": "stream",
     "text": [
      "Enter a string:datamites\n"
     ]
    },
    {
     "data": {
      "text/plain": [
       "'mites'"
      ]
     },
     "execution_count": 1,
     "metadata": {},
     "output_type": "execute_result"
    }
   ],
   "source": [
    "#Accept name from user and print last five character from given character.\n",
    "str = str(input('Enter a string:'))\n",
    "str[4:]"
   ]
  },
  {
   "cell_type": "code",
   "execution_count": 24,
   "id": "31322b91",
   "metadata": {},
   "outputs": [
    {
     "name": "stdout",
     "output_type": "stream",
     "text": [
      "Enter a string:madam\n",
      "is_palindrome True\n"
     ]
    }
   ],
   "source": [
    "#Accept string and check the string is palindrome or not \n",
    "str1 = input('Enter a string:')\n",
    "is_palindrome= str1 ==str1[::-1]\n",
    "print('is_palindrome', is_palindrome)"
   ]
  },
  {
   "cell_type": "code",
   "execution_count": 22,
   "id": "7283b0af",
   "metadata": {},
   "outputs": [
    {
     "name": "stdout",
     "output_type": "stream",
     "text": [
      "Enter a string:madam\n",
      "Original string: madam\n",
      "Is palindrome: True\n"
     ]
    }
   ],
   "source": [
    "str1 = input('Enter a string:')\n",
    "is_palindrome = str1 == str1[::-1]\n",
    "\n",
    "print(f\"Original string: {str1}\")\n",
    "print(f\"Is palindrome: {is_palindrome}\")\n",
    "\n"
   ]
  },
  {
   "cell_type": "code",
   "execution_count": 14,
   "id": "c2db8d4f",
   "metadata": {},
   "outputs": [
    {
     "name": "stdout",
     "output_type": "stream",
     "text": [
      "Enter gmail id:ishika@gmail.com\n"
     ]
    },
    {
     "data": {
      "text/plain": [
       "'ishika'"
      ]
     },
     "execution_count": 14,
     "metadata": {},
     "output_type": "execute_result"
    }
   ],
   "source": [
    "#print username\n",
    "mail_id= input('Enter gmail id:')\n",
    "mail_id[:-10]"
   ]
  },
  {
   "cell_type": "code",
   "execution_count": 31,
   "id": "b88f7747",
   "metadata": {},
   "outputs": [
    {
     "name": "stdout",
     "output_type": "stream",
     "text": [
      "Enter website name:www.ishika.com\n"
     ]
    },
    {
     "data": {
      "text/plain": [
       "'ishika'"
      ]
     },
     "execution_count": 31,
     "metadata": {},
     "output_type": "execute_result"
    }
   ],
   "source": [
    "#print domain name of given website\n",
    "website_name = input('Enter website name:')\n",
    "website_name[4:-4]\n"
   ]
  },
  {
   "cell_type": "code",
   "execution_count": null,
   "id": "7106dcde",
   "metadata": {},
   "outputs": [],
   "source": []
  }
 ],
 "metadata": {
  "kernelspec": {
   "display_name": "Python 3 (ipykernel)",
   "language": "python",
   "name": "python3"
  },
  "language_info": {
   "codemirror_mode": {
    "name": "ipython",
    "version": 3
   },
   "file_extension": ".py",
   "mimetype": "text/x-python",
   "name": "python",
   "nbconvert_exporter": "python",
   "pygments_lexer": "ipython3",
   "version": "3.9.12"
  }
 },
 "nbformat": 4,
 "nbformat_minor": 5
}
