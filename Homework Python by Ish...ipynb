{
 "cells": [
  {
   "cell_type": "code",
   "execution_count": 16,
   "id": "89992c4f",
   "metadata": {},
   "outputs": [
    {
     "name": "stdout",
     "output_type": "stream",
     "text": [
      "enter a number4\n",
      "The number is even.\n"
     ]
    }
   ],
   "source": [
    "#Accept number check even or odd\n",
    "num = int(input('enter a number'))\n",
    "if(num%2)== 0:\n",
    "    print('The number is even.')\n",
    "else:\n",
    "    print('The number is odd')"
   ]
  },
  {
   "cell_type": "code",
   "execution_count": 8,
   "id": "7361fd29",
   "metadata": {},
   "outputs": [
    {
     "name": "stdout",
     "output_type": "stream",
     "text": [
      "Enter character:a\n",
      "character is vowel.\n"
     ]
    }
   ],
   "source": [
    "#Accept character check whether it is vowel or consonant.\n",
    "c = str(input('Enter character:'))\n",
    "vowel = 'aeiouAEIOU'\n",
    "if( c in vowel):\n",
    "    print('character is vowel.')\n",
    "else:\n",
    "    print('character is consonant.')"
   ]
  },
  {
   "cell_type": "code",
   "execution_count": 10,
   "id": "d9c67b7f",
   "metadata": {},
   "outputs": [
    {
     "name": "stdout",
     "output_type": "stream",
     "text": [
      "Enter number:2,2\n",
      "Numbers are same.\n"
     ]
    }
   ],
   "source": [
    "#Accept two numbers and check numbers are same or not\n",
    "a,b = eval(input('Enter number:'))\n",
    "if(a==b):\n",
    "    print('Numbers are same.')\n",
    "else:\n",
    "    print('Numbers are not same.')"
   ]
  },
  {
   "cell_type": "code",
   "execution_count": 17,
   "id": "64de8205",
   "metadata": {},
   "outputs": [
    {
     "name": "stdout",
     "output_type": "stream",
     "text": [
      "Enter first number:4\n",
      "Enter second number:2\n",
      "The number is double.\n"
     ]
    }
   ],
   "source": [
    "#Accept two numbers and check first number is double of second number or not\n",
    "num1 = int(input('Enter first number:'))\n",
    "num2 = int(input('Enter second number:'))\n",
    "if(num1 == 2*num2):\n",
    "    print('The number is double.')\n",
    "else:\n",
    "    print('Number is not double.')"
   ]
  },
  {
   "cell_type": "code",
   "execution_count": 19,
   "id": "44675538",
   "metadata": {},
   "outputs": [
    {
     "name": "stdout",
     "output_type": "stream",
     "text": [
      "Enter string:nitin\n",
      "The first and last character is same.\n"
     ]
    }
   ],
   "source": [
    "#Accept string from user and check first and last character of that given string is same or not.\n",
    "str = input('Enter string:')\n",
    "if( str[0] == str[-1]):\n",
    "    print('The first and last character is same.')\n",
    "else:\n",
    "    print('The first and last character is not same.')"
   ]
  },
  {
   "cell_type": "code",
   "execution_count": 24,
   "id": "1bb66180",
   "metadata": {},
   "outputs": [
    {
     "name": "stdout",
     "output_type": "stream",
     "text": [
      "enter marks of 5 subject55,78,34,78,67\n",
      "Percentage%: 62.4\n"
     ]
    }
   ],
   "source": [
    "#Accept marks of 5 subjects and calculate percentage\n",
    "s1,s2,s3,s4,s5 = eval(input('enter marks of 5 subject'))\n",
    "total_marks = 100\n",
    "percentage = (s1+s2+s3+s4+s5)/(total_marks*5) *100\n",
    "print('Percentage%:',percentage)\n"
   ]
  },
  {
   "cell_type": "code",
   "execution_count": 31,
   "id": "b45c3d50",
   "metadata": {},
   "outputs": [
    {
     "name": "stdout",
     "output_type": "stream",
     "text": [
      "Enter the sides of triangle:2,2,4\n",
      "It is an isosceles triangle.\n"
     ]
    }
   ],
   "source": [
    "#Accept the three sides of triangle and check.\n",
    "a,b,c = eval(input('Enter the sides of triangle:'))\n",
    "if(a==b==c):\n",
    "    print('It is an equilateral triangle.')\n",
    "elif(a==b or a==c or b==c):\n",
    "    print('It is an isosceles triangle.')\n",
    "else:\n",
    "    print('It is a scalene triangle.')"
   ]
  },
  {
   "cell_type": "code",
   "execution_count": 34,
   "id": "866a118e",
   "metadata": {},
   "outputs": [
    {
     "name": "stdout",
     "output_type": "stream",
     "text": [
      "Enter the percentage of student:45\n",
      "Grade C\n"
     ]
    }
   ],
   "source": [
    "#Accept percentage of student from user and print grade \n",
    "per = eval(input('Enter the percentage of student:'))\n",
    "if(per>=75):\n",
    "    print('Grade A')\n",
    "elif(per>=50):\n",
    "    print('Grade B')\n",
    "elif(per>=35):\n",
    "    print('Grade C')\n",
    "else:\n",
    "    print('Fail')"
   ]
  },
  {
   "cell_type": "code",
   "execution_count": null,
   "id": "7749e249",
   "metadata": {},
   "outputs": [],
   "source": []
  }
 ],
 "metadata": {
  "kernelspec": {
   "display_name": "Python 3 (ipykernel)",
   "language": "python",
   "name": "python3"
  },
  "language_info": {
   "codemirror_mode": {
    "name": "ipython",
    "version": 3
   },
   "file_extension": ".py",
   "mimetype": "text/x-python",
   "name": "python",
   "nbconvert_exporter": "python",
   "pygments_lexer": "ipython3",
   "version": "3.9.12"
  }
 },
 "nbformat": 4,
 "nbformat_minor": 5
}
